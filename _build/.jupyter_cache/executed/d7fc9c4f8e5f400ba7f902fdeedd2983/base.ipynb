{
 "cells": [
  {
   "cell_type": "code",
   "execution_count": 1,
   "id": "3170791d",
   "metadata": {},
   "outputs": [],
   "source": [
    "import numpy as np\n",
    "\n",
    "data = np.array([0.1, 0.2, 0.3, 0.4, 0.5, 0.6])"
   ]
  },
  {
   "cell_type": "code",
   "execution_count": 2,
   "id": "025cfaee",
   "metadata": {},
   "outputs": [],
   "source": [
    "from sklearn.model_selection import train_test_split\n",
    "\n",
    "train, test = train_test_split(data,            #specify the data to use\n",
    "                               test_size=0.3)   #specify the split ratio"
   ]
  },
  {
   "cell_type": "code",
   "execution_count": 3,
   "id": "75856dd0",
   "metadata": {},
   "outputs": [
    {
     "name": "stdout",
     "output_type": "stream",
     "text": [
      "Train: [0.3 0.6 0.4 0.2] Test: [0.5 0.1]\n"
     ]
    }
   ],
   "source": [
    "print('Train:', train, 'Test:', test)"
   ]
  },
  {
   "cell_type": "code",
   "execution_count": 4,
   "id": "84a7eea6",
   "metadata": {},
   "outputs": [],
   "source": [
    "from sklearn.model_selection import KFold\n",
    "\n",
    "kfcv = KFold(n_splits=3)  #configure kFCV to have 3 folds"
   ]
  },
  {
   "cell_type": "code",
   "execution_count": 5,
   "id": "ed871f37",
   "metadata": {},
   "outputs": [
    {
     "name": "stdout",
     "output_type": "stream",
     "text": [
      "Train[0.3 0.4 0.5 0.6] Test[0.1 0.2]\n",
      "Train[0.1 0.2 0.5 0.6] Test[0.3 0.4]\n",
      "Train[0.1 0.2 0.3 0.4] Test[0.5 0.6]\n"
     ]
    }
   ],
   "source": [
    "for train, test in kfcv.split(data):\n",
    "    print('Train{}'.format(data[train]), 'Test{}'.format(data[test]))"
   ]
  },
  {
   "cell_type": "code",
   "execution_count": 6,
   "id": "64be1377",
   "metadata": {},
   "outputs": [],
   "source": [
    "from sklearn.model_selection import LeavePOut\n",
    "\n",
    "lpocv = LeavePOut(p=2)  #configure LpOCV to have p=2"
   ]
  },
  {
   "cell_type": "code",
   "execution_count": 7,
   "id": "7be4e2a4",
   "metadata": {},
   "outputs": [
    {
     "name": "stdout",
     "output_type": "stream",
     "text": [
      "Train set:[0.3 0.4 0.5 0.6] Test set:[0.1 0.2]\n",
      "Train set:[0.2 0.4 0.5 0.6] Test set:[0.1 0.3]\n",
      "Train set:[0.2 0.3 0.5 0.6] Test set:[0.1 0.4]\n",
      "Train set:[0.2 0.3 0.4 0.6] Test set:[0.1 0.5]\n",
      "Train set:[0.2 0.3 0.4 0.5] Test set:[0.1 0.6]\n",
      "Train set:[0.1 0.4 0.5 0.6] Test set:[0.2 0.3]\n",
      "Train set:[0.1 0.3 0.5 0.6] Test set:[0.2 0.4]\n",
      "Train set:[0.1 0.3 0.4 0.6] Test set:[0.2 0.5]\n",
      "Train set:[0.1 0.3 0.4 0.5] Test set:[0.2 0.6]\n",
      "Train set:[0.1 0.2 0.5 0.6] Test set:[0.3 0.4]\n",
      "Train set:[0.1 0.2 0.4 0.6] Test set:[0.3 0.5]\n",
      "Train set:[0.1 0.2 0.4 0.5] Test set:[0.3 0.6]\n",
      "Train set:[0.1 0.2 0.3 0.6] Test set:[0.4 0.5]\n",
      "Train set:[0.1 0.2 0.3 0.5] Test set:[0.4 0.6]\n",
      "Train set:[0.1 0.2 0.3 0.4] Test set:[0.5 0.6]\n"
     ]
    }
   ],
   "source": [
    "a=0\n",
    "for train, validate in lpocv.split(data):\n",
    "    print(\"Train set:{}\".format(data[train]), \"Test set:{}\".format(data[validate]))\n",
    "    a = a + 1"
   ]
  },
  {
   "cell_type": "code",
   "execution_count": 8,
   "id": "65b912a3",
   "metadata": {},
   "outputs": [],
   "source": [
    "from sklearn.model_selection import LeaveOneOut\n",
    "\n",
    "loocv = LeaveOneOut()  #configure LOOCV"
   ]
  },
  {
   "cell_type": "code",
   "execution_count": 9,
   "id": "c1ffef05",
   "metadata": {},
   "outputs": [
    {
     "name": "stdout",
     "output_type": "stream",
     "text": [
      "Train: [0.2 0.3 0.4 0.5 0.6] Test: [0.1]\n",
      "Train: [0.1 0.3 0.4 0.5 0.6] Test: [0.2]\n",
      "Train: [0.1 0.2 0.4 0.5 0.6] Test: [0.3]\n",
      "Train: [0.1 0.2 0.3 0.5 0.6] Test: [0.4]\n",
      "Train: [0.1 0.2 0.3 0.4 0.6] Test: [0.5]\n",
      "Train: [0.1 0.2 0.3 0.4 0.5] Test: [0.6]\n"
     ]
    }
   ],
   "source": [
    "for train, test in loocv.split(data):\n",
    "    print('Train:', data[train], 'Test:', data[test])"
   ]
  },
  {
   "cell_type": "code",
   "execution_count": 10,
   "id": "c73c95a1",
   "metadata": {},
   "outputs": [
    {
     "name": "stdout",
     "output_type": "stream",
     "text": [
      "Train set:[0.2 0.3 0.4 0.5 0.6] Test set:[0.1]\n",
      "Train set:[0.1 0.3 0.4 0.5 0.6] Test set:[0.2]\n",
      "Train set:[0.1 0.2 0.4 0.5 0.6] Test set:[0.3]\n",
      "Train set:[0.1 0.2 0.3 0.5 0.6] Test set:[0.4]\n",
      "Train set:[0.1 0.2 0.3 0.4 0.6] Test set:[0.5]\n",
      "Train set:[0.1 0.2 0.3 0.4 0.5] Test set:[0.6]\n"
     ]
    }
   ],
   "source": [
    "from sklearn.model_selection import LeavePOut\n",
    "\n",
    "lpocv = LeavePOut(p=1)  #configure LpOCV\n",
    " \n",
    "#check the combinations of training and test sets:\n",
    "\n",
    "a=0\n",
    "for train, validate in lpocv.split(data):\n",
    "    print(\"Train set:{}\".format(data[train]), \"Test set:{}\".format(data[validate]))\n",
    "    a = a + 1"
   ]
  },
  {
   "cell_type": "code",
   "execution_count": null,
   "id": "c71a50f5",
   "metadata": {},
   "outputs": [],
   "source": []
  }
 ],
 "metadata": {
  "jupytext": {
   "formats": "md:myst",
   "text_representation": {
    "extension": ".md",
    "format_name": "myst"
   }
  },
  "kernelspec": {
   "display_name": "Python 3",
   "language": "python",
   "name": "python3"
  },
  "language_info": {
   "codemirror_mode": {
    "name": "ipython",
    "version": 3
   },
   "file_extension": ".py",
   "mimetype": "text/x-python",
   "name": "python",
   "nbconvert_exporter": "python",
   "pygments_lexer": "ipython3",
   "version": "3.10.7"
  },
  "source_map": [
   11,
   27,
   31,
   50,
   55,
   60,
   62,
   71,
   75,
   80,
   83,
   90,
   94,
   99,
   104,
   111,
   115,
   120,
   123,
   128,
   142
  ]
 },
 "nbformat": 4,
 "nbformat_minor": 5
}