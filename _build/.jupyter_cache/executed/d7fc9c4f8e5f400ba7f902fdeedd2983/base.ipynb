{
 "cells": [
  {
   "cell_type": "code",
   "execution_count": 1,
   "id": "1145a52f",
   "metadata": {},
   "outputs": [],
   "source": [
    "import numpy as np\n",
    "\n",
    "data = np.array([0.1, 0.2, 0.3, 0.4, 0.5, 0.6])"
   ]
  },
  {
   "cell_type": "code",
   "execution_count": 2,
   "id": "77d1ed27",
   "metadata": {},
   "outputs": [],
   "source": [
    "from sklearn.model_selection import train_test_split\n",
    "\n",
    "train, test = train_test_split(data,            #specify the data to use\n",
    "                               test_size=0.3)   #specify the split ratio"
   ]
  },
  {
   "cell_type": "code",
   "execution_count": 3,
   "id": "3089f31c",
   "metadata": {},
   "outputs": [
    {
     "name": "stdout",
     "output_type": "stream",
     "text": [
      "Train: [0.4 0.3 0.1 0.2] Test: [0.6 0.5]\n"
     ]
    }
   ],
   "source": [
    "print('Train:', train, 'Test:', test)"
   ]
  },
  {
   "cell_type": "code",
   "execution_count": 4,
   "id": "ae9ec1f0",
   "metadata": {},
   "outputs": [],
   "source": [
    "from sklearn.model_selection import KFold\n",
    "\n",
    "kfcv = KFold(n_splits=3)  #configure kFCV to have 3 folds"
   ]
  },
  {
   "cell_type": "code",
   "execution_count": 5,
   "id": "26a47059",
   "metadata": {},
   "outputs": [
    {
     "name": "stdout",
     "output_type": "stream",
     "text": [
      "Train[0.3 0.4 0.5 0.6] Test[0.1 0.2]\n",
      "Train[0.1 0.2 0.5 0.6] Test[0.3 0.4]\n",
      "Train[0.1 0.2 0.3 0.4] Test[0.5 0.6]\n"
     ]
    }
   ],
   "source": [
    "for train, test in kfcv.split(data):\n",
    "    print('Train{}'.format(data[train]), 'Test{}'.format(data[test]))"
   ]
  },
  {
   "cell_type": "code",
   "execution_count": 6,
   "id": "95f64892",
   "metadata": {},
   "outputs": [],
   "source": [
    "from sklearn.model_selection import LeavePOut\n",
    "\n",
    "lpocv = LeavePOut(p=2)  #configure LpOCV to have p=2"
   ]
  },
  {
   "cell_type": "code",
   "execution_count": 7,
   "id": "294b3a29",
   "metadata": {},
   "outputs": [
    {
     "name": "stdout",
     "output_type": "stream",
     "text": [
      "Train set:[0.3 0.4 0.5 0.6] Test set:[0.1 0.2]\n",
      "Train set:[0.2 0.4 0.5 0.6] Test set:[0.1 0.3]\n",
      "Train set:[0.2 0.3 0.5 0.6] Test set:[0.1 0.4]\n",
      "Train set:[0.2 0.3 0.4 0.6] Test set:[0.1 0.5]\n",
      "Train set:[0.2 0.3 0.4 0.5] Test set:[0.1 0.6]\n",
      "Train set:[0.1 0.4 0.5 0.6] Test set:[0.2 0.3]\n",
      "Train set:[0.1 0.3 0.5 0.6] Test set:[0.2 0.4]\n",
      "Train set:[0.1 0.3 0.4 0.6] Test set:[0.2 0.5]\n",
      "Train set:[0.1 0.3 0.4 0.5] Test set:[0.2 0.6]\n",
      "Train set:[0.1 0.2 0.5 0.6] Test set:[0.3 0.4]\n",
      "Train set:[0.1 0.2 0.4 0.6] Test set:[0.3 0.5]\n",
      "Train set:[0.1 0.2 0.4 0.5] Test set:[0.3 0.6]\n",
      "Train set:[0.1 0.2 0.3 0.6] Test set:[0.4 0.5]\n",
      "Train set:[0.1 0.2 0.3 0.5] Test set:[0.4 0.6]\n",
      "Train set:[0.1 0.2 0.3 0.4] Test set:[0.5 0.6]\n"
     ]
    }
   ],
   "source": [
    "a=0\n",
    "for train, validate in lpocv.split(data):\n",
    "    print(\"Train set:{}\".format(data[train]), \"Test set:{}\".format(data[validate]))\n",
    "    a = a + 1"
   ]
  },
  {
   "cell_type": "code",
   "execution_count": 8,
   "id": "ab6a0a6d",
   "metadata": {},
   "outputs": [],
   "source": [
    "from sklearn.model_selection import LeaveOneOut\n",
    "\n",
    "loocv = LeaveOneOut()  #configure LOOCV"
   ]
  },
  {
   "cell_type": "code",
   "execution_count": 9,
   "id": "57362605",
   "metadata": {},
   "outputs": [
    {
     "name": "stdout",
     "output_type": "stream",
     "text": [
      "Train: [0.2 0.3 0.4 0.5 0.6] Test: [0.1]\n",
      "Train: [0.1 0.3 0.4 0.5 0.6] Test: [0.2]\n",
      "Train: [0.1 0.2 0.4 0.5 0.6] Test: [0.3]\n",
      "Train: [0.1 0.2 0.3 0.5 0.6] Test: [0.4]\n",
      "Train: [0.1 0.2 0.3 0.4 0.6] Test: [0.5]\n",
      "Train: [0.1 0.2 0.3 0.4 0.5] Test: [0.6]\n"
     ]
    }
   ],
   "source": [
    "for train, test in loocv.split(data):\n",
    "    print('Train:', data[train], 'Test:', data[test])"
   ]
  },
  {
   "cell_type": "code",
   "execution_count": 10,
   "id": "9b4b8afd",
   "metadata": {},
   "outputs": [
    {
     "name": "stdout",
     "output_type": "stream",
     "text": [
      "Train set:[0.2 0.3 0.4 0.5 0.6] Test set:[0.1]\n",
      "Train set:[0.1 0.3 0.4 0.5 0.6] Test set:[0.2]\n",
      "Train set:[0.1 0.2 0.4 0.5 0.6] Test set:[0.3]\n",
      "Train set:[0.1 0.2 0.3 0.5 0.6] Test set:[0.4]\n",
      "Train set:[0.1 0.2 0.3 0.4 0.6] Test set:[0.5]\n",
      "Train set:[0.1 0.2 0.3 0.4 0.5] Test set:[0.6]\n"
     ]
    }
   ],
   "source": [
    "from sklearn.model_selection import LeavePOut\n",
    "\n",
    "lpocv = LeavePOut(p=1)  #configure LpOCV\n",
    " \n",
    "#check the combinations of training and test sets:\n",
    "\n",
    "a=0\n",
    "for train, validate in lpocv.split(data):\n",
    "    print(\"Train set:{}\".format(data[train]), \"Test set:{}\".format(data[validate]))\n",
    "    a = a + 1"
   ]
  },
  {
   "cell_type": "code",
   "execution_count": null,
   "id": "779b4ecc",
   "metadata": {},
   "outputs": [],
   "source": []
  }
 ],
 "metadata": {
  "jupytext": {
   "formats": "md:myst",
   "text_representation": {
    "extension": ".md",
    "format_name": "myst"
   }
  },
  "kernelspec": {
   "display_name": "Python 3",
   "language": "python",
   "name": "python3"
  },
  "language_info": {
   "codemirror_mode": {
    "name": "ipython",
    "version": 3
   },
   "file_extension": ".py",
   "mimetype": "text/x-python",
   "name": "python",
   "nbconvert_exporter": "python",
   "pygments_lexer": "ipython3",
   "version": "3.9.12"
  },
  "source_map": [
   11,
   25,
   29,
   48,
   53,
   58,
   60,
   69,
   73,
   78,
   81,
   88,
   92,
   97,
   102,
   109,
   113,
   118,
   121,
   126,
   140
  ]
 },
 "nbformat": 4,
 "nbformat_minor": 5
}