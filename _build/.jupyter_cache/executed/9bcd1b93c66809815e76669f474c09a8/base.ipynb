{
 "cells": [
  {
   "cell_type": "code",
   "execution_count": 1,
   "id": "bfa13ae9",
   "metadata": {},
   "outputs": [],
   "source": [
    "import sympy as sym #to take derivatives of functions\n",
    "import matplotlib.pyplot as plt #to build graphs\n",
    "import numpy as np #to work with numbers\n",
    "%config InlineBackend.figure_format = 'retina' #to make sharper and prettier plots"
   ]
  },
  {
   "cell_type": "code",
   "execution_count": 2,
   "id": "416a4518",
   "metadata": {},
   "outputs": [],
   "source": [
    "x = np.array([[30], [46], [60], [65], [77], [95]])\n",
    "y = np.array([31, 30, 80, 49, 70, 118])"
   ]
  },
  {
   "cell_type": "code",
   "execution_count": 3,
   "id": "d1aa3c21",
   "metadata": {},
   "outputs": [
    {
     "data": {
      "text/plain": [
       "(0.0, 110.0)"
      ]
     },
     "execution_count": 3,
     "metadata": {},
     "output_type": "execute_result"
    },
    {
     "data": {
      "image/png": "[encoded data removed]",
      "text/plain": [
       "<Figure size 432x288 with 1 Axes>"
      ]
     },
     "metadata": {
      "image/png": {
       "height": 252,
       "width": 375
      },
      "needs_background": "light"
     },
     "output_type": "display_data"
    }
   ],
   "source": [
    "fig, ax = plt.subplots()\n",
    "\n",
    "#plotting training dataset\n",
    "ax.plot(x,y, 'o', color='g', label='training data')\n",
    "\n",
    "#plotting the fitted regression\n",
    "ax.plot(x, -18 + 1.3*x, label='y = {} + {} x'.format(-18, 1.3))\n",
    "\n",
    "#showing legend and setting the size of the graph\n",
    "plt.legend();\n",
    "plt.ylim(0, 140)\n",
    "plt.xlim(0, 110)"
   ]
  },
  {
   "cell_type": "code",
   "execution_count": 4,
   "id": "22449623",
   "metadata": {},
   "outputs": [
    {
     "name": "stdout",
     "output_type": "stream",
     "text": [
      "[array([21.]), array([41.8]), array([60.]), array([66.5]), array([82.1]), array([105.5])]\n"
     ]
    }
   ],
   "source": [
    "#preparing empty list for predicted values\n",
    "y_pred = []\n",
    "\n",
    "#simple loop to calculate each value predicted by the function, y_pred\n",
    "for i in x:\n",
    "    y_pred.append(-18 + 1.3*i)\n",
    "\n",
    "print(y_pred)"
   ]
  },
  {
   "cell_type": "code",
   "execution_count": 5,
   "id": "6e69a864",
   "metadata": {},
   "outputs": [
    {
     "name": "stdout",
     "output_type": "stream",
     "text": [
      "[array([100.]), array([139.24]), array([400.]), array([306.25]), array([146.41]), array([156.25])]\n"
     ]
    }
   ],
   "source": [
    "#preparing empty list for residuals\n",
    "r = []\n",
    "\n",
    "#simple loop to calculate each redisual, r\n",
    "for i in range(0, len(x)):\n",
    "    r.append((y[i]-y_pred[i])**2)\n",
    "print(r)"
   ]
  },
  {
   "cell_type": "code",
   "execution_count": 6,
   "id": "a5c78649",
   "metadata": {},
   "outputs": [
    {
     "name": "stdout",
     "output_type": "stream",
     "text": [
      "1248.1500000000003\n"
     ]
    }
   ],
   "source": [
    "#sum all the residuals \n",
    "ssr = np.sum(r)\n",
    "print(ssr)"
   ]
  },
  {
   "cell_type": "code",
   "execution_count": 7,
   "id": "9c6a7e24",
   "metadata": {},
   "outputs": [
    {
     "data": {
      "text/latex": [
       "$\\displaystyle 51590 a - 67218$"
      ],
      "text/plain": [
       "51590*a - 67218"
      ]
     },
     "execution_count": 7,
     "metadata": {},
     "output_type": "execute_result"
    }
   ],
   "source": [
    "# Calculating a derivative\n",
    "a = sym.Symbol('a')\n",
    "f = (31-(a*30-18))**2+(30-(a*46-18))**2+(80-(a*60-18))**2+(49-(a*65-18))**2+(70-(a*77-18))**2+(118-(a*95-18))**2\n",
    "sym.diff(f)"
   ]
  },
  {
   "cell_type": "code",
   "execution_count": 8,
   "id": "9836d54c",
   "metadata": {},
   "outputs": [
    {
     "name": "stdout",
     "output_type": "stream",
     "text": [
      "Derivative =  -67218\n"
     ]
    }
   ],
   "source": [
    "a = 0\n",
    "d = 51590*a-67218\n",
    "\n",
    "print('Derivative = ', d)"
   ]
  },
  {
   "cell_type": "code",
   "execution_count": 9,
   "id": "2e32a88d",
   "metadata": {},
   "outputs": [
    {
     "name": "stdout",
     "output_type": "stream",
     "text": [
      "Step Size =  -0.67218\n"
     ]
    }
   ],
   "source": [
    "#setting the learning rate\n",
    "l = 0.00001\n",
    "\n",
    "#calculating step size\n",
    "step_size = d*l\n",
    "\n",
    "print('Step Size = ', step_size)"
   ]
  },
  {
   "cell_type": "code",
   "execution_count": 10,
   "id": "8618dc1a",
   "metadata": {},
   "outputs": [
    {
     "name": "stdout",
     "output_type": "stream",
     "text": [
      "At Step 1, a =  0\n"
     ]
    }
   ],
   "source": [
    "a1 = a-step_size\n",
    "print('At Step 1, a = ', a)"
   ]
  },
  {
   "cell_type": "code",
   "execution_count": 11,
   "id": "ba98a461",
   "metadata": {},
   "outputs": [
    {
     "name": "stdout",
     "output_type": "stream",
     "text": [
      "Derivative =  -32540.2338\n"
     ]
    }
   ],
   "source": [
    "d = 51590*a1-67218\n",
    "print('Derivative = ', round(d, 4))"
   ]
  },
  {
   "cell_type": "code",
   "execution_count": 12,
   "id": "a4cec64c",
   "metadata": {},
   "outputs": [
    {
     "name": "stdout",
     "output_type": "stream",
     "text": [
      "Step Size =  -0.3254\n"
     ]
    }
   ],
   "source": [
    "step_size = d*l\n",
    "print('Step Size = ', round(step_size, 5))"
   ]
  },
  {
   "cell_type": "code",
   "execution_count": 13,
   "id": "b19a7a24",
   "metadata": {},
   "outputs": [
    {
     "name": "stdout",
     "output_type": "stream",
     "text": [
      "At Step 2, a =  0.99758\n"
     ]
    }
   ],
   "source": [
    "a2 = a1-step_size\n",
    "print('At Step 2, a = ', round(a2, 5))"
   ]
  },
  {
   "cell_type": "code",
   "execution_count": 14,
   "id": "443a8154",
   "metadata": {},
   "outputs": [
    {
     "name": "stdout",
     "output_type": "stream",
     "text": [
      "Derivative =  -15752.7272\n"
     ]
    }
   ],
   "source": [
    "d = 51590*a2-67218\n",
    "print('Derivative = ', round(d, 4))"
   ]
  },
  {
   "cell_type": "code",
   "execution_count": 15,
   "id": "b2194938",
   "metadata": {},
   "outputs": [
    {
     "name": "stdout",
     "output_type": "stream",
     "text": [
      "Step Size =  -0.15753\n"
     ]
    }
   ],
   "source": [
    "step_size = d*l\n",
    "print('Step Size = ', round(step_size, 5))"
   ]
  },
  {
   "cell_type": "code",
   "execution_count": 16,
   "id": "6f42e2a2",
   "metadata": {},
   "outputs": [
    {
     "name": "stdout",
     "output_type": "stream",
     "text": [
      "At Step 3, a =  1.15511\n"
     ]
    }
   ],
   "source": [
    "a3 = a2-step_size\n",
    "print('At Step 3, a = ', round(a3, 5))"
   ]
  },
  {
   "cell_type": "code",
   "execution_count": 17,
   "id": "e49d24a8",
   "metadata": {},
   "outputs": [
    {
     "name": "stdout",
     "output_type": "stream",
     "text": [
      "Derivative =  -7625.8952\n"
     ]
    }
   ],
   "source": [
    "d = 51590*a3-67218\n",
    "print('Derivative = ', round(d, 4))"
   ]
  },
  {
   "cell_type": "code",
   "execution_count": 18,
   "id": "f29e76e3",
   "metadata": {},
   "outputs": [
    {
     "name": "stdout",
     "output_type": "stream",
     "text": [
      "Step Size =  -0.07626\n"
     ]
    }
   ],
   "source": [
    "step_size = d*l\n",
    "print('Step Size = ', round(step_size, 5))"
   ]
  },
  {
   "cell_type": "code",
   "execution_count": 19,
   "id": "2d9cbe95",
   "metadata": {},
   "outputs": [
    {
     "name": "stdout",
     "output_type": "stream",
     "text": [
      "At Step 4, a =  1.23137\n"
     ]
    }
   ],
   "source": [
    "a4 = a3-step_size\n",
    "print('At Step 4, a = ', round(a4, 5))"
   ]
  },
  {
   "cell_type": "code",
   "execution_count": 20,
   "id": "de54296e",
   "metadata": {},
   "outputs": [
    {
     "name": "stdout",
     "output_type": "stream",
     "text": [
      "Derivative =  -3691.6959\n"
     ]
    }
   ],
   "source": [
    "d = 51590*a4-67218\n",
    "print('Derivative = ', round(d, 4))"
   ]
  },
  {
   "cell_type": "code",
   "execution_count": 21,
   "id": "0b31097a",
   "metadata": {},
   "outputs": [
    {
     "name": "stdout",
     "output_type": "stream",
     "text": [
      "Step Size =  -0.03692\n"
     ]
    }
   ],
   "source": [
    "step_size = d*l\n",
    "print('Step Size = ', round(step_size, 5))"
   ]
  },
  {
   "cell_type": "code",
   "execution_count": 22,
   "id": "2c1f1daf",
   "metadata": {},
   "outputs": [
    {
     "name": "stdout",
     "output_type": "stream",
     "text": [
      "At Step 5, a =  1.26829\n"
     ]
    }
   ],
   "source": [
    "a5 = a4-step_size\n",
    "print('At Step 5, a = ', round(a5, 5))"
   ]
  },
  {
   "cell_type": "code",
   "execution_count": 23,
   "id": "b82cb590",
   "metadata": {},
   "outputs": [
    {
     "name": "stdout",
     "output_type": "stream",
     "text": [
      "Derivative =  -1787.15\n"
     ]
    }
   ],
   "source": [
    "d = 51590*a5-67218\n",
    "print('Derivative = ', round(d, 4))"
   ]
  },
  {
   "cell_type": "code",
   "execution_count": 24,
   "id": "2471c1c2",
   "metadata": {},
   "outputs": [
    {
     "name": "stdout",
     "output_type": "stream",
     "text": [
      "Step Size =  -0.01787\n"
     ]
    }
   ],
   "source": [
    "step_size = d*l\n",
    "print('Step Size = ', round(step_size, 5))"
   ]
  },
  {
   "cell_type": "code",
   "execution_count": 25,
   "id": "38508e98",
   "metadata": {},
   "outputs": [
    {
     "name": "stdout",
     "output_type": "stream",
     "text": [
      "At Step 6, a =  1.28616\n"
     ]
    }
   ],
   "source": [
    "a6 = a5-step_size\n",
    "print('At Step 6, a = ', round(a6, 5))"
   ]
  },
  {
   "cell_type": "code",
   "execution_count": 26,
   "id": "46cfac9a",
   "metadata": {},
   "outputs": [
    {
     "name": "stdout",
     "output_type": "stream",
     "text": [
      "Derivative =  -865.1593\n"
     ]
    }
   ],
   "source": [
    "d = 51590*a6-67218\n",
    "print('Derivative = ', round(d, 4))"
   ]
  },
  {
   "cell_type": "code",
   "execution_count": 27,
   "id": "e09e8365",
   "metadata": {},
   "outputs": [
    {
     "name": "stdout",
     "output_type": "stream",
     "text": [
      "Step Size =  -0.00865\n"
     ]
    }
   ],
   "source": [
    "step_size = d*l\n",
    "print('Step Size = ', round(step_size, 5))"
   ]
  },
  {
   "cell_type": "code",
   "execution_count": 28,
   "id": "d6769c59",
   "metadata": {},
   "outputs": [
    {
     "name": "stdout",
     "output_type": "stream",
     "text": [
      "At Step 7, a =  1.29481\n"
     ]
    }
   ],
   "source": [
    "a7 = a6-step_size\n",
    "print('At Step 7, a = ', round(a7, 5))"
   ]
  },
  {
   "cell_type": "code",
   "execution_count": 29,
   "id": "6df4dd5b",
   "metadata": {},
   "outputs": [
    {
     "name": "stdout",
     "output_type": "stream",
     "text": [
      "Derivative =  -418.8236\n"
     ]
    }
   ],
   "source": [
    "d = 51590*a7-67218\n",
    "print('Derivative = ', round(d, 4))"
   ]
  },
  {
   "cell_type": "code",
   "execution_count": 30,
   "id": "ac858b68",
   "metadata": {},
   "outputs": [
    {
     "name": "stdout",
     "output_type": "stream",
     "text": [
      "Step Size =  -0.00419\n"
     ]
    }
   ],
   "source": [
    "step_size = d*l\n",
    "print('Step Size = ', round(step_size, 5))"
   ]
  },
  {
   "cell_type": "code",
   "execution_count": 31,
   "id": "63bc096e",
   "metadata": {},
   "outputs": [
    {
     "name": "stdout",
     "output_type": "stream",
     "text": [
      "At Step 8, a =  1.299\n"
     ]
    }
   ],
   "source": [
    "a8 = a7-step_size\n",
    "print('At Step 8, a = ', round(a8, 5))"
   ]
  },
  {
   "cell_type": "code",
   "execution_count": 32,
   "id": "198ae692",
   "metadata": {},
   "outputs": [
    {
     "name": "stdout",
     "output_type": "stream",
     "text": [
      "Derivative =  -202.7525\n"
     ]
    }
   ],
   "source": [
    "d = 51590*a8-67218\n",
    "print('Derivative = ', round(d, 4))"
   ]
  },
  {
   "cell_type": "code",
   "execution_count": 33,
   "id": "d868e2e3",
   "metadata": {},
   "outputs": [
    {
     "name": "stdout",
     "output_type": "stream",
     "text": [
      "Step Size =  -0.00203\n"
     ]
    }
   ],
   "source": [
    "step_size = d*l\n",
    "print('Step Size = ', round(step_size, 5))"
   ]
  },
  {
   "cell_type": "code",
   "execution_count": 34,
   "id": "20a9c4e1",
   "metadata": {},
   "outputs": [
    {
     "name": "stdout",
     "output_type": "stream",
     "text": [
      "At Step 9, a =  1.30102\n"
     ]
    }
   ],
   "source": [
    "a9 = a8-step_size\n",
    "print('At Step 9, a = ', round(a9, 5))"
   ]
  },
  {
   "cell_type": "code",
   "execution_count": 35,
   "id": "d3ffec4b",
   "metadata": {},
   "outputs": [
    {
     "name": "stdout",
     "output_type": "stream",
     "text": [
      "Derivative =  -98.1525\n"
     ]
    }
   ],
   "source": [
    "d = 51590*a9-67218\n",
    "print('Derivative = ', round(d, 4))"
   ]
  },
  {
   "cell_type": "code",
   "execution_count": 36,
   "id": "4bb577fc",
   "metadata": {},
   "outputs": [
    {
     "name": "stdout",
     "output_type": "stream",
     "text": [
      "Step Size =  -0.00098\n"
     ]
    }
   ],
   "source": [
    "step_size = d*l\n",
    "print('Step Size = ', round(step_size, 5))"
   ]
  },
  {
   "cell_type": "code",
   "execution_count": 37,
   "id": "440cae8f",
   "metadata": {},
   "outputs": [
    {
     "name": "stdout",
     "output_type": "stream",
     "text": [
      "At Step 10, a =  1.30201\n"
     ]
    }
   ],
   "source": [
    "a10 = a9-step_size\n",
    "print('At Step 10, a = ', round(a10, 5))"
   ]
  },
  {
   "cell_type": "code",
   "execution_count": 38,
   "id": "d5b9df2d",
   "metadata": {},
   "outputs": [
    {
     "name": "stdout",
     "output_type": "stream",
     "text": [
      "Derivative =  -47.5156\n"
     ]
    }
   ],
   "source": [
    "d = 51590*a10-67218\n",
    "print('Derivative = ', round(d, 4))"
   ]
  },
  {
   "cell_type": "code",
   "execution_count": 39,
   "id": "2e2f7313",
   "metadata": {},
   "outputs": [
    {
     "name": "stdout",
     "output_type": "stream",
     "text": [
      "Step Size =  -0.00048\n"
     ]
    }
   ],
   "source": [
    "step_size = d*l\n",
    "print('Step Size = ', round(step_size, 5))"
   ]
  },
  {
   "cell_type": "code",
   "execution_count": 40,
   "id": "94b5c74b",
   "metadata": {},
   "outputs": [
    {
     "name": "stdout",
     "output_type": "stream",
     "text": [
      "At Step 11, a =  1.30248\n"
     ]
    }
   ],
   "source": [
    "a11 = a10-step_size\n",
    "print('At Step 11, a = ', round(a11, 5))"
   ]
  },
  {
   "cell_type": "code",
   "execution_count": 41,
   "id": "fcffc9e1",
   "metadata": {},
   "outputs": [
    {
     "name": "stdout",
     "output_type": "stream",
     "text": [
      "Derivative =  -23.0023\n"
     ]
    }
   ],
   "source": [
    "d = 51590*a11-67218\n",
    "print('Derivative = ', round(d, 4))"
   ]
  },
  {
   "cell_type": "code",
   "execution_count": 42,
   "id": "738f9c4f",
   "metadata": {},
   "outputs": [
    {
     "name": "stdout",
     "output_type": "stream",
     "text": [
      "Step Size =  -0.00023\n"
     ]
    }
   ],
   "source": [
    "step_size = d*l\n",
    "print('Step Size = ', round(step_size, 5))"
   ]
  },
  {
   "cell_type": "code",
   "execution_count": 43,
   "id": "41c23f6f",
   "metadata": {},
   "outputs": [
    {
     "name": "stdout",
     "output_type": "stream",
     "text": [
      "At Step 12, a =  1.30271\n"
     ]
    }
   ],
   "source": [
    "a12 = a11-step_size\n",
    "print('At Step 12, a = ', round(a12, 5))"
   ]
  },
  {
   "cell_type": "code",
   "execution_count": 44,
   "id": "b017af76",
   "metadata": {},
   "outputs": [
    {
     "name": "stdout",
     "output_type": "stream",
     "text": [
      "Derivative =  -11.1354\n"
     ]
    }
   ],
   "source": [
    "d = 51590*a12-67218\n",
    "print('Derivative = ', round(d, 4))"
   ]
  },
  {
   "cell_type": "code",
   "execution_count": 45,
   "id": "2486732c",
   "metadata": {},
   "outputs": [
    {
     "name": "stdout",
     "output_type": "stream",
     "text": [
      "Step Size =  -0.00011\n"
     ]
    }
   ],
   "source": [
    "step_size = d*l\n",
    "print('Step Size = ', round(step_size, 5))"
   ]
  },
  {
   "cell_type": "code",
   "execution_count": 46,
   "id": "f8b92ed9",
   "metadata": {},
   "outputs": [
    {
     "name": "stdout",
     "output_type": "stream",
     "text": [
      "At Step 13, a =  1.30282\n"
     ]
    }
   ],
   "source": [
    "a13 = a12-step_size\n",
    "print('At Step 13, a = ', round(a13, 5))"
   ]
  },
  {
   "cell_type": "code",
   "execution_count": 47,
   "id": "84232475",
   "metadata": {},
   "outputs": [
    {
     "name": "stdout",
     "output_type": "stream",
     "text": [
      "Derivative =  -5.3907\n"
     ]
    }
   ],
   "source": [
    "d = 51590*a13-67218\n",
    "print('Derivative = ', round(d, 4))"
   ]
  },
  {
   "cell_type": "code",
   "execution_count": 48,
   "id": "d3c6d33f",
   "metadata": {},
   "outputs": [
    {
     "name": "stdout",
     "output_type": "stream",
     "text": [
      "Step Size =  -5e-05\n"
     ]
    }
   ],
   "source": [
    "step_size = d*l\n",
    "print('Step Size = ', round(step_size, 5))"
   ]
  },
  {
   "cell_type": "code",
   "execution_count": 49,
   "id": "46b6625c",
   "metadata": {},
   "outputs": [
    {
     "name": "stdout",
     "output_type": "stream",
     "text": [
      "At Step 14, a =  1.30288\n"
     ]
    }
   ],
   "source": [
    "a14 = a13-step_size\n",
    "print('At Step 14, a = ', round(a14, 5))"
   ]
  },
  {
   "cell_type": "code",
   "execution_count": 50,
   "id": "338820d7",
   "metadata": {},
   "outputs": [
    {
     "name": "stdout",
     "output_type": "stream",
     "text": [
      "Derivative =  -2.6096\n"
     ]
    }
   ],
   "source": [
    "d = 51590*a14-67218\n",
    "print('Derivative = ', round(d, 4))"
   ]
  },
  {
   "cell_type": "code",
   "execution_count": 51,
   "id": "42e20a3e",
   "metadata": {},
   "outputs": [
    {
     "name": "stdout",
     "output_type": "stream",
     "text": [
      "Step Size =  -3e-05\n"
     ]
    }
   ],
   "source": [
    "step_size = d*l\n",
    "print('Step Size = ', round(step_size, 5))"
   ]
  },
  {
   "cell_type": "code",
   "execution_count": 52,
   "id": "bc60c2f8",
   "metadata": {},
   "outputs": [
    {
     "name": "stdout",
     "output_type": "stream",
     "text": [
      "At Step 15, a =  1.3029\n"
     ]
    }
   ],
   "source": [
    "a15 = a14-step_size\n",
    "print('At Step 15, a = ', round(a15, 5))"
   ]
  },
  {
   "cell_type": "code",
   "execution_count": 53,
   "id": "dece8e72",
   "metadata": {},
   "outputs": [],
   "source": [
    "l = 0.00001 #same learning rate\n",
    "a = 2.23 #different value for a"
   ]
  },
  {
   "cell_type": "code",
   "execution_count": 54,
   "id": "db4829c8",
   "metadata": {},
   "outputs": [
    {
     "name": "stdout",
     "output_type": "stream",
     "text": [
      "Derivative =  47827.7\n"
     ]
    }
   ],
   "source": [
    "d = 51590*a-67218\n",
    "print('Derivative = ', d)"
   ]
  },
  {
   "cell_type": "code",
   "execution_count": 55,
   "id": "688af4fa",
   "metadata": {},
   "outputs": [
    {
     "name": "stdout",
     "output_type": "stream",
     "text": [
      "Step Size =  0.478277\n"
     ]
    }
   ],
   "source": [
    "step_size = d*l\n",
    "print('Step Size = ', step_size)"
   ]
  },
  {
   "cell_type": "code",
   "execution_count": 56,
   "id": "091c261e",
   "metadata": {},
   "outputs": [
    {
     "name": "stdout",
     "output_type": "stream",
     "text": [
      "At Step 1, a =  1.75172\n"
     ]
    }
   ],
   "source": [
    "a1 = a-step_size\n",
    "print('At Step 1, a = ', round(a1, 5))"
   ]
  },
  {
   "cell_type": "code",
   "execution_count": 57,
   "id": "5d9778b2",
   "metadata": {},
   "outputs": [
    {
     "name": "stdout",
     "output_type": "stream",
     "text": [
      "Derivative =  23153.3896\n",
      "Step Size =  0.23153\n",
      "At Step 2, a =  1.52019\n"
     ]
    }
   ],
   "source": [
    "#step 2\n",
    "\n",
    "d = 51590*a1-67218\n",
    "print('Derivative = ', round(d, 4))\n",
    "\n",
    "step_size = d*l\n",
    "print('Step Size = ', round(step_size, 5))\n",
    "\n",
    "a2 = a1-step_size\n",
    "print('At Step 2, a = ', round(a2, 5))"
   ]
  },
  {
   "cell_type": "code",
   "execution_count": 58,
   "id": "dd9fdaed",
   "metadata": {},
   "outputs": [
    {
     "name": "stdout",
     "output_type": "stream",
     "text": [
      "Derivative =  11208.5559\n",
      "Step Size =  0.11209\n",
      "At Step 3, a =  1.4081\n"
     ]
    }
   ],
   "source": [
    "#step 3\n",
    "\n",
    "d = 51590*a2-67218\n",
    "print('Derivative = ', round(d, 4))\n",
    "\n",
    "step_size = d*l\n",
    "print('Step Size = ', round(step_size, 5))\n",
    "\n",
    "a3 = a2-step_size\n",
    "print('At Step 3, a = ', round(a3, 5))"
   ]
  },
  {
   "cell_type": "code",
   "execution_count": 59,
   "id": "6d7839be",
   "metadata": {},
   "outputs": [
    {
     "name": "stdout",
     "output_type": "stream",
     "text": [
      "Derivative =  5426.0619\n",
      "Step Size =  0.05426\n",
      "At Step 4, a =  1.35384\n"
     ]
    }
   ],
   "source": [
    "#step 4\n",
    "\n",
    "d = 51590*a3-67218\n",
    "print('Derivative = ', round(d, 4))\n",
    "\n",
    "step_size = d*l\n",
    "print('Step Size = ', round(step_size, 5))\n",
    "\n",
    "a4 = a3-step_size\n",
    "print('At Step 4, a = ', round(a4, 5))"
   ]
  },
  {
   "cell_type": "code",
   "execution_count": 60,
   "id": "5e279dda",
   "metadata": {},
   "outputs": [
    {
     "name": "stdout",
     "output_type": "stream",
     "text": [
      "Derivative =  2626.7566\n",
      "Step Size =  0.02627\n",
      "At Step 5, a =  1.32758\n"
     ]
    }
   ],
   "source": [
    "#step 5\n",
    "\n",
    "d = 51590*a4-67218\n",
    "print('Derivative = ', round(d, 4))\n",
    "\n",
    "step_size = d*l\n",
    "print('Step Size = ', round(step_size, 5))\n",
    "\n",
    "a5 = a4-step_size\n",
    "print('At Step 5, a = ', round(a5, 5))"
   ]
  },
  {
   "cell_type": "code",
   "execution_count": 61,
   "id": "594e2784",
   "metadata": {},
   "outputs": [
    {
     "name": "stdout",
     "output_type": "stream",
     "text": [
      "Derivative =  1271.6129\n",
      "Step Size =  0.01272\n",
      "At Step 6, a =  1.31486\n"
     ]
    }
   ],
   "source": [
    "#step 6\n",
    "\n",
    "d = 51590*a5-67218\n",
    "print('Derivative = ', round(d, 4))\n",
    "\n",
    "step_size = d*l\n",
    "print('Step Size = ', round(step_size, 5))\n",
    "\n",
    "a6 = a5-step_size\n",
    "print('At Step 6, a = ', round(a6, 5))"
   ]
  },
  {
   "cell_type": "code",
   "execution_count": 62,
   "id": "b25c3a02",
   "metadata": {},
   "outputs": [
    {
     "name": "stdout",
     "output_type": "stream",
     "text": [
      "Derivative =  615.5878\n",
      "Step Size =  0.00616\n",
      "At Step 7, a =  1.3087\n"
     ]
    }
   ],
   "source": [
    "#step 7\n",
    "\n",
    "d = 51590*a6-67218\n",
    "print('Derivative = ', round(d, 4))\n",
    "\n",
    "step_size = d*l\n",
    "print('Step Size = ', round(step_size, 5))\n",
    "\n",
    "a7 = a6-step_size\n",
    "print('At Step 7, a = ', round(a7, 5))"
   ]
  },
  {
   "cell_type": "code",
   "execution_count": 63,
   "id": "c3369e8e",
   "metadata": {},
   "outputs": [
    {
     "name": "stdout",
     "output_type": "stream",
     "text": [
      "Derivative =  298.006\n",
      "Step Size =  0.00298\n",
      "At Step 8, a =  1.30572\n"
     ]
    }
   ],
   "source": [
    "#step 8\n",
    "\n",
    "d = 51590*a7-67218\n",
    "print('Derivative = ', round(d, 4))\n",
    "\n",
    "step_size = d*l\n",
    "print('Step Size = ', round(step_size, 5))\n",
    "\n",
    "a8 = a7-step_size\n",
    "print('At Step 8, a = ', round(a8, 5))"
   ]
  },
  {
   "cell_type": "code",
   "execution_count": 64,
   "id": "415a4cbb",
   "metadata": {},
   "outputs": [
    {
     "name": "stdout",
     "output_type": "stream",
     "text": [
      "Derivative =  144.2647\n",
      "Step Size =  0.00144\n",
      "At Step 9, a =  1.30428\n"
     ]
    }
   ],
   "source": [
    "#step 9\n",
    "\n",
    "d = 51590*a8-67218\n",
    "print('Derivative = ', round(d, 4))\n",
    "\n",
    "step_size = d*l\n",
    "print('Step Size = ', round(step_size, 5))\n",
    "\n",
    "a9 = a8-step_size\n",
    "print('At Step 9, a = ', round(a9, 5))"
   ]
  },
  {
   "cell_type": "code",
   "execution_count": 65,
   "id": "2c25d4dd",
   "metadata": {},
   "outputs": [
    {
     "name": "stdout",
     "output_type": "stream",
     "text": [
      "Derivative =  69.8386\n",
      "Step Size =  0.0007\n",
      "At Step 10, a =  1.30358\n"
     ]
    }
   ],
   "source": [
    "#step 10\n",
    "\n",
    "d = 51590*a9-67218\n",
    "print('Derivative = ', round(d, 4))\n",
    "\n",
    "step_size = d*l\n",
    "print('Step Size = ', round(step_size, 5))\n",
    "\n",
    "a10 = a9-step_size\n",
    "print('At Step 10, a = ', round(a10, 5))"
   ]
  },
  {
   "cell_type": "code",
   "execution_count": 66,
   "id": "0c9a73e8",
   "metadata": {},
   "outputs": [
    {
     "name": "stdout",
     "output_type": "stream",
     "text": [
      "Derivative =  33.8088\n",
      "Step Size =  0.00034\n",
      "At Step 10, a =  1.30324\n"
     ]
    }
   ],
   "source": [
    "#step 11\n",
    "\n",
    "d = 51590*a10-67218\n",
    "print('Derivative = ', round(d, 4))\n",
    "\n",
    "step_size = d*l\n",
    "print('Step Size = ', round(step_size, 5))\n",
    "\n",
    "a11 = a10-step_size\n",
    "print('At Step 10, a = ', round(a11, 5))"
   ]
  },
  {
   "cell_type": "code",
   "execution_count": 67,
   "id": "7da07722",
   "metadata": {},
   "outputs": [
    {
     "name": "stdout",
     "output_type": "stream",
     "text": [
      "Derivative =  16.3669\n",
      "Step Size =  0.00016\n",
      "At Step 10, a =  1.30308\n"
     ]
    }
   ],
   "source": [
    "#step 12\n",
    "\n",
    "d = 51590*a11-67218\n",
    "print('Derivative = ', round(d, 4))\n",
    "\n",
    "step_size = d*l\n",
    "print('Step Size = ', round(step_size, 5))\n",
    "\n",
    "a12 = a11-step_size\n",
    "print('At Step 10, a = ', round(a12, 5))"
   ]
  },
  {
   "cell_type": "code",
   "execution_count": 68,
   "id": "7d7f17ce",
   "metadata": {},
   "outputs": [
    {
     "name": "stdout",
     "output_type": "stream",
     "text": [
      "Derivative =  7.9232\n",
      "Step Size =  8e-05\n",
      "At Step 10, a =  1.303\n"
     ]
    }
   ],
   "source": [
    "#step 13\n",
    "\n",
    "d = 51590*a12-67218\n",
    "print('Derivative = ', round(d, 4))\n",
    "\n",
    "step_size = d*l\n",
    "print('Step Size = ', round(step_size, 5))\n",
    "\n",
    "a13 = a12-step_size\n",
    "print('At Step 10, a = ', round(a13, 5))"
   ]
  },
  {
   "cell_type": "code",
   "execution_count": 69,
   "id": "47cdd4d7",
   "metadata": {},
   "outputs": [
    {
     "name": "stdout",
     "output_type": "stream",
     "text": [
      "Derivative =  3.8356\n",
      "Step Size =  4e-05\n",
      "At Step 10, a =  1.30296\n"
     ]
    }
   ],
   "source": [
    "#step 14\n",
    "\n",
    "d = 51590*a13-67218\n",
    "print('Derivative = ', round(d, 4))\n",
    "\n",
    "step_size = d*l\n",
    "print('Step Size = ', round(step_size, 5))\n",
    "\n",
    "a14 = a13-step_size\n",
    "print('At Step 10, a = ', round(a14, 5))"
   ]
  },
  {
   "cell_type": "code",
   "execution_count": 70,
   "id": "e75c0914",
   "metadata": {},
   "outputs": [
    {
     "name": "stdout",
     "output_type": "stream",
     "text": [
      "Derivative =  1.8568\n",
      "Step Size =  2e-05\n",
      "At Step 10, a =  1.30294\n"
     ]
    }
   ],
   "source": [
    "#step 15\n",
    "\n",
    "d = 51590*a14-67218\n",
    "print('Derivative = ', round(d, 4))\n",
    "\n",
    "step_size = d*l\n",
    "print('Step Size = ', round(step_size, 5))\n",
    "\n",
    "a15 = a14-step_size\n",
    "print('At Step 10, a = ', round(a15, 5))"
   ]
  },
  {
   "cell_type": "code",
   "execution_count": null,
   "id": "a7c0d645",
   "metadata": {},
   "outputs": [],
   "source": []
  }
 ],
 "metadata": {
  "jupytext": {
   "formats": "md:myst",
   "text_representation": {
    "extension": ".md",
    "format_name": "myst"
   }
  },
  "kernelspec": {
   "display_name": "Python 3",
   "language": "python",
   "name": "python3"
  },
  "language_info": {
   "codemirror_mode": {
    "name": "ipython",
    "version": 3
   },
   "file_extension": ".py",
   "mimetype": "text/x-python",
   "name": "python",
   "nbconvert_exporter": "python",
   "pygments_lexer": "ipython3",
   "version": "3.9.12"
  },
  "source_map": [
   11,
   40,
   45,
   49,
   52,
   60,
   73,
   80,
   91,
   100,
   104,
   123,
   128,
   167,
   172,
   189,
   197,
   210,
   213,
   222,
   228,
   234,
   237,
   242,
   248,
   254,
   257,
   262,
   268,
   274,
   277,
   282,
   288,
   294,
   297,
   302,
   308,
   314,
   317,
   322,
   327,
   332,
   335,
   340,
   346,
   352,
   355,
   360,
   366,
   372,
   375,
   380,
   386,
   392,
   395,
   400,
   406,
   412,
   415,
   420,
   426,
   432,
   435,
   440,
   446,
   452,
   455,
   460,
   466,
   472,
   475,
   480,
   486,
   492,
   495,
   503,
   506,
   511,
   517,
   523,
   526,
   531,
   542,
   547,
   558,
   563,
   574,
   579,
   590,
   595,
   606,
   611,
   622,
   627,
   638,
   643,
   654,
   659,
   673,
   687,
   701,
   715,
   729,
   740,
   744
  ]
 },
 "nbformat": 4,
 "nbformat_minor": 5
}