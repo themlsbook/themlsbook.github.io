{
 "cells": [
  {
   "cell_type": "markdown",
   "id": "b1f24882",
   "metadata": {},
   "source": [
    "## Bagging Models\n",
    "\n",
    "- This is a supplement material for the [Machine Learning Simplified](https://themlsbook.com) book. It sheds light on Python implementations of the topics discussed while all detailed explanations can be found in the book. \n",
    "- I also assume you know Python syntax and how it works. If you don't, I highly recommend you to take a break and get introduced to the language before going forward with my code. \n",
    "- This material can be downloaded as a Jupyter notebook (Download button in the upper-right corner -> `.ipynb`) to reproduce the code and play around with it. \n",
    "\n",
    "\n",
    "This notebook is a supplement for *Chapter 9. Ensemble Models* of **Machine Learning For Everyone** book.\n",
    "\n",
    "## 1. Required Libraries, Data & Variables\n",
    "\n",
    "Let's import the data and have a look at it:"
   ]
  },
  {
   "cell_type": "code",
   "execution_count": null,
   "id": "cfa1d5d7",
   "metadata": {},
   "outputs": [],
   "source": [
    "import pandas as pd\n",
    "\n",
    "data = {\n",
    "    'Day': list(range(1, 31)),\n",
    "    'Temperature': [\n",
    "        'Cold', 'Hot', 'Cold', 'Hot', 'Hot',\n",
    "        'Cold', 'Hot', 'Cold', 'Hot', 'Cold',\n",
    "        'Hot', 'Cold', 'Hot', 'Cold', 'Hot',\n",
    "        'Cold', 'Hot', 'Cold', 'Hot', 'Cold',\n",
    "        'Hot', 'Cold', 'Hot', 'Cold', 'Hot',\n",
    "        'Cold', 'Hot', 'Cold', 'Hot', 'Cold'\n",
    "    ],\n",
    "    'Humidity': [\n",
    "        'Normal', 'Normal', 'Normal', 'High', 'High',\n",
    "        'Normal', 'High', 'Normal', 'High', 'Normal',\n",
    "        'High', 'Normal', 'High', 'Normal', 'High',\n",
    "        'Normal', 'High', 'Normal', 'High', 'Normal',\n",
    "        'High', 'Normal', 'High', 'Normal', 'High',\n",
    "        'Normal', 'High', 'Normal', 'High', 'Normal'\n",
    "    ],\n",
    "    'Outlook': [\n",
    "        'Rain', 'Rain', 'Sunny', 'Sunny', 'Rain',\n",
    "        'Sunny', 'Rain', 'Sunny', 'Rain', 'Sunny',\n",
    "        'Rain', 'Sunny', 'Rain', 'Sunny', 'Rain',\n",
    "        'Sunny', 'Rain', 'Sunny', 'Rain', 'Sunny',\n",
    "        'Rain', 'Sunny', 'Rain', 'Sunny', 'Rain',\n",
    "        'Sunny', 'Rain', 'Sunny', 'Rain', 'Sunny'\n",
    "    ],\n",
    "    'Wind': [\n",
    "        'Strong', 'Weak', 'Weak', 'Weak', 'Weak',\n",
    "        'Strong', 'Weak', 'Weak', 'Weak', 'Strong',\n",
    "        'Weak', 'Weak', 'Strong', 'Weak', 'Weak',\n",
    "        'Weak', 'Strong', 'Weak', 'Weak', 'Weak',\n",
    "        'Strong', 'Weak', 'Weak', 'Weak', 'Weak',\n",
    "        'Strong', 'Weak', 'Weak', 'Weak', 'Strong'\n",
    "    ],\n",
    "    'Golf Played': [\n",
    "        'No', 'No', 'Yes', 'Yes', 'Yes',\n",
    "        'No', 'Yes', 'No', 'Yes', 'Yes',\n",
    "        'No', 'Yes', 'No', 'Yes', 'Yes',\n",
    "        'No', 'Yes', 'No', 'Yes', 'Yes',\n",
    "        'No', 'Yes', 'No', 'Yes', 'Yes',\n",
    "        'No', 'Yes', 'No', 'Yes', 'Yes'\n",
    "    ]\n",
    "}\n",
    "\n",
    "# Converting the dictionary into a DataFrame\n",
    "df = pd.DataFrame(data)"
   ]
  },
  {
   "cell_type": "code",
   "execution_count": null,
   "id": "f0cd0af1",
   "metadata": {
    "scrolled": true
   },
   "outputs": [],
   "source": [
    "# Displaying the DataFrame\n",
    "df.head(10)"
   ]
  },
  {
   "cell_type": "markdown",
   "id": "6a5ecb9c",
   "metadata": {},
   "source": [
    "## 2. Preparation of the Dataset"
   ]
  },
  {
   "cell_type": "markdown",
   "id": "a4b6f79d",
   "metadata": {},
   "source": [
    "One-hot encoding the categorical variables"
   ]
  },
  {
   "cell_type": "code",
   "execution_count": null,
   "id": "b12a6af7",
   "metadata": {},
   "outputs": [],
   "source": [
    "from sklearn.preprocessing import OneHotEncoder\n",
    "\n",
    "encoder = OneHotEncoder(sparse=False)\n",
    "encoded_features = encoder.fit_transform(df[['Temperature', 'Humidity', 'Outlook', 'Wind']])\n",
    "encoded_df = pd.DataFrame(encoded_features, columns=encoder.get_feature_names_out(['Temperature', 'Humidity', 'Outlook', 'Wind']))"
   ]
  },
  {
   "cell_type": "markdown",
   "id": "8e09cb91",
   "metadata": {},
   "source": [
    "Visualizing the first 10 records of the encoded dataframe:"
   ]
  },
  {
   "cell_type": "code",
   "execution_count": null,
   "id": "8117c5f3",
   "metadata": {},
   "outputs": [],
   "source": [
    "encoded_df.head(10)"
   ]
  },
  {
   "cell_type": "markdown",
   "id": "c48b4a2b",
   "metadata": {},
   "source": [
    "Adding the encoded features back to the dataframe"
   ]
  },
  {
   "cell_type": "code",
   "execution_count": null,
   "id": "2a5618d7",
   "metadata": {
    "scrolled": true
   },
   "outputs": [],
   "source": [
    "df = df.join(encoded_df)\n",
    "\n",
    "df.head(5)"
   ]
  },
  {
   "cell_type": "markdown",
   "id": "883f5a1f",
   "metadata": {},
   "source": [
    "Preparing the features by removing categorical variables."
   ]
  },
  {
   "cell_type": "code",
   "execution_count": null,
   "id": "0c5a4cdd",
   "metadata": {
    "scrolled": true
   },
   "outputs": [],
   "source": [
    "X = df.drop(['Day', 'Temperature', 'Humidity', 'Outlook', 'Wind', 'Golf Played'], axis=1)\n",
    "X.head(5)"
   ]
  },
  {
   "cell_type": "markdown",
   "id": "b75872f2",
   "metadata": {},
   "source": [
    "Defining y:"
   ]
  },
  {
   "cell_type": "code",
   "execution_count": null,
   "id": "0685e2d3",
   "metadata": {
    "scrolled": true
   },
   "outputs": [],
   "source": [
    "y = df['Golf Played']\n",
    "\n",
    "y"
   ]
  },
  {
   "cell_type": "markdown",
   "id": "8fd42fdf",
   "metadata": {},
   "source": [
    "Splitting the dataset into training and testing sets"
   ]
  },
  {
   "cell_type": "code",
   "execution_count": null,
   "id": "06230ebf",
   "metadata": {},
   "outputs": [],
   "source": [
    "from sklearn.model_selection import train_test_split\n",
    "\n",
    "X_train, X_test, y_train, y_test = train_test_split(X, y, test_size=0.2, random_state=42)"
   ]
  },
  {
   "cell_type": "markdown",
   "id": "28bd28ff",
   "metadata": {},
   "source": [
    "## 3. Bagging Ensemble"
   ]
  },
  {
   "cell_type": "markdown",
   "id": "672d8099",
   "metadata": {},
   "source": [
    "### 3.1. Building a Boosting Ensemble"
   ]
  },
  {
   "cell_type": "markdown",
   "id": "65a5ced7",
   "metadata": {},
   "source": [
    "Creating the Gradient Boosting classifier"
   ]
  },
  {
   "cell_type": "code",
   "execution_count": null,
   "id": "7129c282",
   "metadata": {},
   "outputs": [],
   "source": [
    "from sklearn.ensemble import BaggingClassifier"
   ]
  },
  {
   "cell_type": "code",
   "execution_count": null,
   "id": "7bee8a9d",
   "metadata": {
    "scrolled": true
   },
   "outputs": [],
   "source": [
    "# Creating the Bagging classifier\n",
    "# Using a DecisionTreeClassifier as the base classifier\n",
    "model = BaggingClassifier(\n",
    "                            base_estimator=DecisionTreeClassifier(), \n",
    "                            n_estimators=10,  # Number of trees\n",
    "                            max_samples=0.8,  # Fraction of samples to draw from X to train each base estimator\n",
    "                            max_features=0.8,  # Fraction of features to draw from X to train each base estimator\n",
    "                            random_state=42\n",
    "                         )\n",
    "model.fit(X_train, y_train)"
   ]
  },
  {
   "cell_type": "markdown",
   "id": "0448d0af",
   "metadata": {},
   "source": [
    "### 3.2. Visualizing boosted ensemble"
   ]
  },
  {
   "cell_type": "code",
   "execution_count": null,
   "id": "75f5742c",
   "metadata": {},
   "outputs": [],
   "source": [
    "from sklearn.tree import DecisionTreeClassifier, plot_tree"
   ]
  },
  {
   "cell_type": "code",
   "execution_count": null,
   "id": "4f22c6c6",
   "metadata": {},
   "outputs": [],
   "source": [
    "# Building 5 decision trees\n",
    "feature_names = encoder.get_feature_names_out(['Temperature', 'Humidity', 'Outlook', 'Wind'])\n",
    "trees = [DecisionTreeClassifier(criterion='gini', max_depth=3, random_state=42 + i) for i in range(5)]\n",
    "for tree in trees:\n",
    "    tree.fit(X_train, y_train)\n",
    "\n",
    "# Plotting all 5 trees\n",
    "fig, axes = plt.subplots(nrows=1, ncols=5, figsize=(20, 4), dpi=300)\n",
    "for i, tree in enumerate(trees):\n",
    "    plot_tree(tree, feature_names=feature_names, class_names=['No', 'Yes'], filled=True, ax=axes[i])\n",
    "    axes[i].set_title(f'Tree {i+1}')\n",
    "\n",
    "plt.tight_layout()\n",
    "plt.show()"
   ]
  },
  {
   "cell_type": "markdown",
   "id": "b46192b8",
   "metadata": {},
   "source": [
    "### 3.3. Predicting the Results"
   ]
  },
  {
   "cell_type": "markdown",
   "id": "db88e1f7",
   "metadata": {},
   "source": [
    "Predicting the test set results"
   ]
  },
  {
   "cell_type": "code",
   "execution_count": null,
   "id": "101057d8",
   "metadata": {},
   "outputs": [],
   "source": [
    "y_pred = model.predict(X_test)"
   ]
  },
  {
   "cell_type": "code",
   "execution_count": null,
   "id": "7c5f6ef5",
   "metadata": {},
   "outputs": [],
   "source": [
    "y_pred"
   ]
  },
  {
   "cell_type": "markdown",
   "id": "eb6b0f0a",
   "metadata": {},
   "source": [
    "### 3.4. Evaluating the model"
   ]
  },
  {
   "cell_type": "code",
   "execution_count": null,
   "id": "4a25d3b0",
   "metadata": {},
   "outputs": [],
   "source": [
    "from sklearn.metrics import accuracy_score, classification_report"
   ]
  },
  {
   "cell_type": "code",
   "execution_count": null,
   "id": "715fd81f",
   "metadata": {
    "scrolled": true
   },
   "outputs": [],
   "source": [
    "accuracy = accuracy_score(y_test, y_pred)\n",
    "report = classification_report(y_test, y_pred)\n",
    "\n",
    "print(\"Accuracy:\", accuracy)\n",
    "print(\"Classification Report:\\n\", report)"
   ]
  },
  {
   "cell_type": "markdown",
   "id": "cd3ecd50",
   "metadata": {},
   "source": [
    "## 4. Random Forest Classifier"
   ]
  },
  {
   "cell_type": "markdown",
   "id": "ba5ee913",
   "metadata": {},
   "source": [
    "### 4.1. Building a Boosting Ensemble"
   ]
  },
  {
   "cell_type": "markdown",
   "id": "92a6341a",
   "metadata": {},
   "source": [
    "Creating the Random Forest Classifier"
   ]
  },
  {
   "cell_type": "code",
   "execution_count": null,
   "id": "b34e1f7b",
   "metadata": {},
   "outputs": [],
   "source": [
    "from sklearn.ensemble import RandomForestClassifier"
   ]
  },
  {
   "cell_type": "code",
   "execution_count": null,
   "id": "afe8558b",
   "metadata": {},
   "outputs": [],
   "source": [
    "random_forest = RandomForestClassifier(n_estimators=100, criterion='gini', max_depth=3, random_state=42)\n",
    "\n",
    "random_forest.fit(X_train, y_train)"
   ]
  },
  {
   "cell_type": "markdown",
   "id": "7c1f23df",
   "metadata": {},
   "source": [
    "### 4.2. Predicting the Results"
   ]
  },
  {
   "cell_type": "code",
   "execution_count": null,
   "id": "eca56a61",
   "metadata": {},
   "outputs": [],
   "source": [
    "# Making predictions on the test set\n",
    "y_pred = random_forest.predict(X_test)\n",
    "\n",
    "y_pred"
   ]
  },
  {
   "cell_type": "markdown",
   "id": "6f810e99",
   "metadata": {},
   "source": [
    "### 4.3. Evaluating the model"
   ]
  },
  {
   "cell_type": "code",
   "execution_count": null,
   "id": "c9fb148c",
   "metadata": {
    "scrolled": true
   },
   "outputs": [],
   "source": [
    "# Evaluating the model\n",
    "accuracy = accuracy_score(y_test, y_pred)\n",
    "report = classification_report(y_test, y_pred)\n",
    "\n",
    "print(\"Accuracy:\", accuracy)\n",
    "print(\"Classification Report:\\n\", report)"
   ]
  }
 ],
 "metadata": {
  "kernelspec": {
   "display_name": "Python 3 (ipykernel)",
   "language": "python",
   "name": "python3"
  },
  "language_info": {
   "codemirror_mode": {
    "name": "ipython",
    "version": 3
   },
   "file_extension": ".py",
   "mimetype": "text/x-python",
   "name": "python",
   "nbconvert_exporter": "python",
   "pygments_lexer": "ipython3",
   "version": "3.10.7"
  }
 },
 "nbformat": 4,
 "nbformat_minor": 5
}
