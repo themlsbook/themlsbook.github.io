{
 "cells": [
  {
   "cell_type": "markdown",
   "id": "b5733381",
   "metadata": {},
   "source": [
    "# Evaluation Metrics for Regression\n",
    "\n",
    "- This is a supplement material for the [Machine Learning Simplified](https://themlsbook.com) book. It sheds light on Python implementations of the topics discussed while all detailed explanations can be found in the book. \n",
    "- I also assume you know Python syntax and how it works. If you don't, I highly recommend you to take a break and get introduced to the language before going forward with my code. \n",
    "- This material can be downloaded as a Jupyter notebook (Download button in the upper-right corner -> `.ipynb`) to reproduce the code and play around with it.\n",
    "\n",
    "\n",
    "This notebook is a supplement for *Chapter 13. Model Evaluation* of **Machine Learning For Everyone** book.\n",
    "\n",
    "\n",
    "## 1. Required Libraries\n",
    "\n",
    "This block imports all necessary libraries. "
   ]
  },
  {
   "cell_type": "code",
   "execution_count": null,
   "id": "749af4ac",
   "metadata": {},
   "outputs": [],
   "source": [
    "import numpy as np\n",
    "from sklearn.datasets import make_regression\n",
    "from sklearn.model_selection import train_test_split\n",
    "from sklearn.linear_model import LinearRegression\n",
    "from sklearn.metrics import mean_squared_error, r2_score"
   ]
  },
  {
   "cell_type": "markdown",
   "id": "5ec5bf68",
   "metadata": {},
   "source": [
    "## 2. Univariate Regression"
   ]
  },
  {
   "cell_type": "markdown",
   "id": "b7360eb5",
   "metadata": {},
   "source": [
    "Generate synthetic data for Univariate Regression using `sklearn.datasets.make_regression`"
   ]
  },
  {
   "cell_type": "code",
   "execution_count": null,
   "id": "d443d6f8",
   "metadata": {},
   "outputs": [],
   "source": [
    "# Univariate Regression: 1 feature\n",
    "X_uni, y_uni = make_regression(n_samples=100, n_features=1, noise=0.1, random_state=42)\n",
    "X_train_uni, X_test_uni, y_train_uni, y_test_uni = train_test_split(X_uni, y_uni, test_size=0.2, random_state=42)"
   ]
  },
  {
   "cell_type": "markdown",
   "id": "7dcb7006",
   "metadata": {},
   "source": [
    "Next step is to train a regression model (`LinearRegression`)"
   ]
  },
  {
   "cell_type": "code",
   "execution_count": null,
   "id": "852491fc",
   "metadata": {},
   "outputs": [],
   "source": [
    "# Univariate Model\n",
    "model_uni = LinearRegression()\n",
    "model_uni.fit(X_train_uni, y_train_uni)"
   ]
  },
  {
   "cell_type": "markdown",
   "id": "0d827848",
   "metadata": {},
   "source": [
    "Finally, to evaluate the model, we calculate the predicted values made by a model."
   ]
  },
  {
   "cell_type": "code",
   "execution_count": null,
   "id": "7eb3cf77",
   "metadata": {},
   "outputs": [],
   "source": [
    "# Predictions\n",
    "y_pred_uni = model_uni.predict(X_test_uni)"
   ]
  },
  {
   "cell_type": "markdown",
   "id": "57fcbcbc",
   "metadata": {},
   "source": [
    "### 2.1. Mean Squated Error"
   ]
  },
  {
   "cell_type": "code",
   "execution_count": null,
   "id": "7482ee10",
   "metadata": {},
   "outputs": [],
   "source": [
    "mse_uni = mean_squared_error(y_test_uni, y_pred_uni)\n",
    "\n",
    "print(\"Mean Squared Error (MSE):\", mse_uni)"
   ]
  },
  {
   "cell_type": "markdown",
   "id": "5714f6d7",
   "metadata": {},
   "source": [
    "### 2.2. R-squared"
   ]
  },
  {
   "cell_type": "code",
   "execution_count": null,
   "id": "edbc9c87",
   "metadata": {},
   "outputs": [],
   "source": [
    "r2_uni = r2_score(y_test_uni, y_pred_uni)\n",
    "\n",
    "print(\"R-squared (R²):\", r2_uni)"
   ]
  },
  {
   "cell_type": "markdown",
   "id": "d7f1605e",
   "metadata": {},
   "source": [
    "## 3. Multivariate Regression"
   ]
  },
  {
   "cell_type": "markdown",
   "id": "8222fe5d",
   "metadata": {},
   "source": [
    "Generate synthetic data for Univariate Regression using `sklearn.datasets.make_regression`"
   ]
  },
  {
   "cell_type": "code",
   "execution_count": null,
   "id": "e42e41cc",
   "metadata": {},
   "outputs": [],
   "source": [
    "# Multivariate Regression: 3 features\n",
    "X_multi, y_multi = make_regression(n_samples=100, n_features=3, noise=0.1, random_state=42)\n",
    "X_train_multi, X_test_multi, y_train_multi, y_test_multi = train_test_split(X_multi, y_multi, test_size=0.2, random_state=42)"
   ]
  },
  {
   "cell_type": "markdown",
   "id": "a41fe2ae",
   "metadata": {},
   "source": [
    "Next step is to train a regression model (`LinearRegression`)"
   ]
  },
  {
   "cell_type": "code",
   "execution_count": null,
   "id": "cc86ef28",
   "metadata": {},
   "outputs": [],
   "source": [
    "# Multivariate Model\n",
    "model_multi = LinearRegression()\n",
    "model_multi.fit(X_train_multi, y_train_multi)"
   ]
  },
  {
   "cell_type": "markdown",
   "id": "99a4b5b1",
   "metadata": {},
   "source": [
    "Finally, to evaluate the model, we calculate the predicted values made by a model."
   ]
  },
  {
   "cell_type": "code",
   "execution_count": null,
   "id": "6f4f213d",
   "metadata": {},
   "outputs": [],
   "source": [
    "# Predictions\n",
    "y_pred_multi = model_multi.predict(X_test_multi)"
   ]
  },
  {
   "cell_type": "markdown",
   "id": "037585ac",
   "metadata": {},
   "source": [
    "### 3.1. MSE and R-squared"
   ]
  },
  {
   "cell_type": "code",
   "execution_count": null,
   "id": "b5f7cf99",
   "metadata": {},
   "outputs": [],
   "source": [
    "# MSE and R-squared\n",
    "mse_multi = mean_squared_error(y_test_multi, y_pred_multi)\n",
    "r2_multi = r2_score(y_test_multi, y_pred_multi)\n",
    "\n",
    "print(\"Mean Squared Error (MSE):\", mse_multi)\n",
    "print(\"R-squared (R²):\", r2_multi)"
   ]
  },
  {
   "cell_type": "markdown",
   "id": "a5291589",
   "metadata": {},
   "source": [
    "### 3.2. Adjusted R-squared"
   ]
  },
  {
   "cell_type": "code",
   "execution_count": null,
   "id": "14685617",
   "metadata": {},
   "outputs": [],
   "source": [
    "# Adjusted R-squared\n",
    "n = len(y_test_multi)  # number of data points\n",
    "p = X_test_multi.shape[1]  # number of predictors\n",
    "adj_r2_multi = 1 - (1 - r2_multi) * ((n - 1) / (n - p - 1))"
   ]
  },
  {
   "cell_type": "code",
   "execution_count": null,
   "id": "775405c4",
   "metadata": {},
   "outputs": [],
   "source": [
    "print(\"Adjusted R-squared:\", adj_r2_multi)"
   ]
  }
 ],
 "metadata": {
  "kernelspec": {
   "display_name": "Python 3 (ipykernel)",
   "language": "python",
   "name": "python3"
  },
  "language_info": {
   "codemirror_mode": {
    "name": "ipython",
    "version": 3
   },
   "file_extension": ".py",
   "mimetype": "text/x-python",
   "name": "python",
   "nbconvert_exporter": "python",
   "pygments_lexer": "ipython3",
   "version": "3.10.7"
  }
 },
 "nbformat": 4,
 "nbformat_minor": 5
}
